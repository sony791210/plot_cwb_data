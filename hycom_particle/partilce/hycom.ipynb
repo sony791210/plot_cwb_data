{
 "cells": [
  {
   "cell_type": "code",
   "execution_count": 1,
   "metadata": {},
   "outputs": [],
   "source": [
    "import netCDF4\n",
    "import numpy as np\n",
    "\n",
    "from datetime import datetime,timedelta\n",
    "import math"
   ]
  },
  {
   "cell_type": "code",
   "execution_count": 2,
   "metadata": {},
   "outputs": [],
   "source": [
    "pi=math.pi\n",
    "#你想要投影的中心點位置 \n",
    "#lon\n",
    "rlambda0 = 128.09\n",
    "#lat\n",
    "phi0 = 21.239\n",
    "rlambda0=rlambda0*pi/180\n",
    "phi0=phi0*pi/180\n",
    "\n",
    "# particle tracking 位置\n",
    "x=119.14\n",
    "y=25.02\n"
   ]
  },
  {
   "cell_type": "code",
   "execution_count": null,
   "metadata": {},
   "outputs": [],
   "source": [
    "#尋找對應的位置，你的點為在hycom資料的位置\n",
    "def find_loc(x,cpp_x):\n",
    "    for st,i in enumerate(cpp_x):\n",
    "        if(x<=i):\n",
    "            break\n",
    "    return st-1,st"
   ]
  },
  {
   "cell_type": "code",
   "execution_count": null,
   "metadata": {},
   "outputs": [],
   "source": [
    "#投影座標轉換，將經緯度轉換成公尺單位\n",
    "def cpp(ifl,xin,yin,rlambda0,phi0):\n",
    "    r=6378206.4\n",
    "    pi=3.1415926\n",
    "    if(ifl==1):\n",
    "        xin=xin*pi/180\n",
    "        yin=yin*pi/180\n",
    "        xout=r*(xin-rlambda0)*np.cos(phi0)\n",
    "        yout=yin*r\n",
    "    elif(ifl==-1):\n",
    "        xout=rlambda0+xin/r/np.cos(phi0)\n",
    "        yout=yin/r\n",
    "        xout=xout/pi*180\n",
    "        yout=yout/pi*180\n",
    "    return xout,yout\n"
   ]
  },
  {
   "cell_type": "code",
   "execution_count": null,
   "metadata": {},
   "outputs": [],
   "source": [
    "#差分公式\n",
    "def power(x,y,cpp_x,cpp_y,u):\n",
    "    xloc1,xloc2=find_loc(x,cpp_x)\n",
    "    yloc1,yloc2=find_loc(y,cpp_y)\n",
    "    x1=cpp_x[xloc1]\n",
    "    x2=cpp_x[xloc2]\n",
    "    y1=cpp_y[yloc1]\n",
    "    y2=cpp_y[yloc2]\n",
    "    u1=u[yloc1,xloc1]\n",
    "    u2=u[yloc1,xloc2]\n",
    "\n",
    "    if(np.isnan(u1)):\n",
    "        ans1=u2\n",
    "    elif(np.isnan(u2)):\n",
    "        ans1=u1\n",
    "    elif( (np.isnan(u1)) & (np.isnan(u2)) ):\n",
    "        ans2=0\n",
    "    else:\n",
    "        ans1=u1-((u1-u2)/(x1-x2)*(x1-x))\n",
    "\n",
    "    u1=u[yloc2,xloc1]\n",
    "    u2=u[yloc2,xloc2]\n",
    "    if(np.isnan(u1)):\n",
    "        ans2=u2\n",
    "    elif(np.isnan(u2)):\n",
    "        ans2=u1\n",
    "    elif( (np.isnan(u1)) & (np.isnan(u2)) ):\n",
    "        ans2=0\n",
    "    else:\n",
    "        ans2=u1-((u1-u2)/(x1-x2)*(x1-x))\n",
    "\n",
    "    if(ans1==0):\n",
    "        ans=ans2\n",
    "    elif(ans2==0):\n",
    "        ans=ans1\n",
    "    else:\n",
    "        ans=ans1-((ans1-ans2)/(y1-y2)*(y1-y))\n",
    "    return ans\n"
   ]
  },
  {
   "cell_type": "code",
   "execution_count": null,
   "metadata": {},
   "outputs": [],
   "source": [
    "#檢查一下是否有跑出邊界 ，把點為拉回來的意思\n",
    "def check(x,y,cpp_x,cpp_y,u,st):\n",
    "    xloc1,xloc2=find_loc(x,cpp_x)\n",
    "    yloc1,yloc2=find_loc(y,cpp_y)\n",
    "    x1=cpp_x[xloc1]\n",
    "    x2=cpp_x[xloc2]\n",
    "    y1=cpp_y[yloc1]\n",
    "    y2=cpp_y[yloc2]\n",
    "\n",
    "    u1=u[yloc1,xloc1]\n",
    "    u2=u[yloc1,xloc2]\n",
    "    u3=u[yloc2,xloc1]\n",
    "    u4=u[yloc2,xloc2]\n",
    "\n",
    "    if(np.isnan(u1)):\n",
    "        if((y2-y)>(x2-x)):\n",
    "            x=x2\n",
    "        else:\n",
    "            y=y2\n",
    "    if(np.isnan(u2)):\n",
    "        if((y2-y)>(x-x1)):\n",
    "            x=x1\n",
    "        else:\n",
    "            y=y2\n",
    "    if(np.isnan(u3)):\n",
    "        if((y-y1)>(x2-x)):\n",
    "            x=x2\n",
    "        else:\n",
    "            y=y1\n",
    "    if(np.isnan(u4)):\n",
    "        if((y-y1)>(x-x1)):\n",
    "            x=x1\n",
    "        else:\n",
    "            y=y1\n",
    "    return x,y\n"
   ]
  },
  {
   "cell_type": "code",
   "execution_count": null,
   "metadata": {},
   "outputs": [],
   "source": [
    "#計算下一點跑去哪裡了，小心一點變數名稱可能不一樣\n",
    "def go_count(x,y,dataname,time):\n",
    "    data = netCDF4.Dataset(dataname)\n",
    "    lon=data['lon'][:].data\n",
    "    lat=data['lat'][:].data\n",
    "    cpp_x=[]\n",
    "    cpp_y=[]\n",
    "    for i,j in zip(lon,lat):\n",
    "        a,b=cpp(1,i,j,rlambda0,phi0)\n",
    "        cpp_x.append(a)\n",
    "        cpp_y.append(b)\n",
    "\n",
    "    v_data=data['water_v'][time,:,:].data\n",
    "    u_data=data['water_u'][time,:,:].data\n",
    "\n",
    "\n",
    "    ans_lon=[]\n",
    "    ans_lat=[]\n",
    "\n",
    "    for st,i in enumerate(range(24)):\n",
    "        u=power(x,y,cpp_x,cpp_y,u_data)\n",
    "        #print(u)\n",
    "        v=power(x,y,cpp_x,cpp_y,v_data)\n",
    "        #print(v)\n",
    "        x=x+u*3600\n",
    "        y=y+v*3600\n",
    "        x,y=check(x,y,cpp_x,cpp_y,v_data,st)\n",
    "        ans_lon.append(x)\n",
    "        ans_lat.append(y)\n",
    "\n",
    "    return ans_lon,ans_lat\n"
   ]
  },
  {
   "cell_type": "code",
   "execution_count": null,
   "metadata": {},
   "outputs": [],
   "source": [
    "#計算\n",
    "def particle(x,y,all_name):\n",
    "    ans_lon=[]\n",
    "    ans_lat=[]\n",
    "    for st,i in enumerate(all_name):\n",
    "        lon,lat=go_count(x,y,i,st)\n",
    "        ans_lon.extend(lon)\n",
    "        ans_lat.extend(lat)\n",
    "        x=ans_lon[-1]\n",
    "        y=ans_lat[-1]\n",
    "    return ans_lon,ans_lat\n"
   ]
  },
  {
   "cell_type": "code",
   "execution_count": null,
   "metadata": {},
   "outputs": [],
   "source": []
  },
  {
   "cell_type": "code",
   "execution_count": null,
   "metadata": {},
   "outputs": [],
   "source": [
    "x,y=cpp(1,x,y,rlambda0,phi0)\n",
    "\n",
    "\n",
    "\n",
    "\n",
    "#需要修改你的檔案名稱唷!!!\n",
    "all_name=[]\n",
    "for d in range(61):\n",
    "    all_name.append('vel_ave.nc')\n",
    "\n",
    "\n",
    "\n",
    "ans_lon,ans_lat=particle(x,y,all_name)\n",
    "\n",
    "\n",
    "with open('info','w') as f:\n",
    "    for x,y in zip(ans_lon,ans_lat):\n",
    "        a,b=cpp(-1,x,y,rlambda0,phi0)\n",
    "        f.writelines(str('%.8f'% a)+\"  \"+str('%.8f'% b))\n",
    "        f.writelines('\\n')\n"
   ]
  },
  {
   "cell_type": "code",
   "execution_count": null,
   "metadata": {},
   "outputs": [],
   "source": []
  },
  {
   "cell_type": "code",
   "execution_count": null,
   "metadata": {},
   "outputs": [],
   "source": []
  },
  {
   "cell_type": "code",
   "execution_count": null,
   "metadata": {},
   "outputs": [],
   "source": []
  },
  {
   "cell_type": "code",
   "execution_count": null,
   "metadata": {},
   "outputs": [],
   "source": []
  },
  {
   "cell_type": "code",
   "execution_count": null,
   "metadata": {},
   "outputs": [],
   "source": []
  },
  {
   "cell_type": "code",
   "execution_count": null,
   "metadata": {},
   "outputs": [],
   "source": []
  },
  {
   "cell_type": "code",
   "execution_count": null,
   "metadata": {},
   "outputs": [],
   "source": []
  },
  {
   "cell_type": "code",
   "execution_count": null,
   "metadata": {},
   "outputs": [],
   "source": []
  },
  {
   "cell_type": "code",
   "execution_count": null,
   "metadata": {},
   "outputs": [],
   "source": []
  },
  {
   "cell_type": "code",
   "execution_count": null,
   "metadata": {},
   "outputs": [],
   "source": []
  },
  {
   "cell_type": "code",
   "execution_count": null,
   "metadata": {},
   "outputs": [],
   "source": []
  },
  {
   "cell_type": "code",
   "execution_count": null,
   "metadata": {},
   "outputs": [],
   "source": []
  },
  {
   "cell_type": "code",
   "execution_count": null,
   "metadata": {},
   "outputs": [],
   "source": []
  },
  {
   "cell_type": "code",
   "execution_count": null,
   "metadata": {},
   "outputs": [],
   "source": []
  },
  {
   "cell_type": "code",
   "execution_count": null,
   "metadata": {},
   "outputs": [],
   "source": []
  },
  {
   "cell_type": "code",
   "execution_count": null,
   "metadata": {},
   "outputs": [],
   "source": []
  }
 ],
 "metadata": {
  "kernelspec": {
   "display_name": "Python 3",
   "language": "python",
   "name": "python3"
  },
  "language_info": {
   "codemirror_mode": {
    "name": "ipython",
    "version": 3
   },
   "file_extension": ".py",
   "mimetype": "text/x-python",
   "name": "python",
   "nbconvert_exporter": "python",
   "pygments_lexer": "ipython3",
   "version": "3.6.7"
  }
 },
 "nbformat": 4,
 "nbformat_minor": 2
}
