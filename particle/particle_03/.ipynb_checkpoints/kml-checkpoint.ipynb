{
 "cells": [
  {
   "cell_type": "code",
   "execution_count": 22,
   "metadata": {},
   "outputs": [],
   "source": [
    "import pandas as pd\n",
    "import simplekml\n",
    "from datetime import datetime,timedelta\n"
   ]
  },
  {
   "cell_type": "code",
   "execution_count": 16,
   "metadata": {},
   "outputs": [],
   "source": [
    "data=pd.read_csv('particle.track.lonlat',header=None,sep='\\s+')"
   ]
  },
  {
   "cell_type": "code",
   "execution_count": 80,
   "metadata": {},
   "outputs": [],
   "source": [
    "date=20190114  # start date\n",
    "start=20  # start hour\n",
    "skip=2  # jump buoy\n",
    "\n",
    "splite=5 # how many buoy\n"
   ]
  },
  {
   "cell_type": "code",
   "execution_count": 81,
   "metadata": {},
   "outputs": [],
   "source": [
    "y=int(str(date)[0:4])\n",
    "m=int(str(date)[4:6])\n",
    "d=int(str(date)[6:8])\n",
    "h=start\n",
    "time=datetime(y,m,d,0)"
   ]
  },
  {
   "cell_type": "code",
   "execution_count": 86,
   "metadata": {},
   "outputs": [],
   "source": [
    "kml = simplekml.Kml()\n",
    "cood=[]\n",
    "A=False\n",
    "for st,i in enumerate(range(int(len(data)/splite))):\n",
    "    time=time+timedelta(hours=1)\n",
    "    if (st ==(start-1)):\n",
    "        A=True\n",
    "        pnt =kml.newpoint(name=\"First\", coords=[(data[0][st],data[1][st])],description = time.strftime(\"%Y-%m-%d %H:00\"))  # lon, lat, optional height\n",
    "        pnt.style.labelstyle.color = simplekml.Color.red  # Make the text red\n",
    "        pnt.style.iconstyle.icon.href = 'http://maps.google.com/mapfiles/kml/paddle/A.png'\n",
    "    elif ((st >(start-1)) & (st%skip==0)):\n",
    "        pnt =kml.newpoint(name=\"\", coords=[(data[0][st],data[1][st])],description = time.strftime(\"%Y-%m-%d %H:00\"))  # lon, lat, optional height\n",
    "    if(A):\n",
    "        cood.append((data[0][st],data[1][st]))\n",
    "               \n",
    "pnt =kml.newpoint(name=\"\", coords=[(data[0][st],data[1][st])],description = time.strftime(\"%Y-%m-%d %H:00\"))  # lon, lat, optional height\n",
    "lin = kml.newlinestring(name=\"\", coords=cood)\n",
    "lin.style.linestyle.width= 4  # 10 pixels\n",
    "lin.style.linestyle.color = simplekml.Color.yellow        \n",
    "kml.save(\"botanicalgarden.kml\")"
   ]
  },
  {
   "cell_type": "code",
   "execution_count": 79,
   "metadata": {},
   "outputs": [],
   "source": []
  },
  {
   "cell_type": "markdown",
   "metadata": {},
   "source": [
    "\n",
    "\n",
    "pnt =kml.newpoint(name=\"First\", coords=[(120,20)],description = \"This is a description\")  # lon, lat, optional height\n",
    "pnt.style.labelstyle.color = simplekml.Color.red  # Make the text red\n",
    "pnt.style.iconstyle.icon.href = 'http://maps.google.com/mapfiles/kml/paddle/A.png'\n",
    "\n",
    "\n",
    "kml.newpoint(name=\"B\", coords=[(121,21)]) \n",
    "lin = kml.newlinestring(name=\"Pathway\", description=\"A pathway in Kirstenbosch\",\n",
    "                        coords=[(120,20), (121,21),\n",
    "                                (121,20), (122,20)])\n",
    "lin.style.linestyle.width= 4  # 10 pixels\n",
    "lin.style.linestyle.color = simplekml.Color.yellow\n"
   ]
  },
  {
   "cell_type": "code",
   "execution_count": null,
   "metadata": {},
   "outputs": [],
   "source": []
  },
  {
   "cell_type": "code",
   "execution_count": null,
   "metadata": {},
   "outputs": [],
   "source": []
  },
  {
   "cell_type": "code",
   "execution_count": null,
   "metadata": {},
   "outputs": [],
   "source": []
  },
  {
   "cell_type": "code",
   "execution_count": null,
   "metadata": {},
   "outputs": [],
   "source": []
  },
  {
   "cell_type": "code",
   "execution_count": null,
   "metadata": {},
   "outputs": [],
   "source": []
  }
 ],
 "metadata": {
  "kernelspec": {
   "display_name": "Python 3",
   "language": "python",
   "name": "python3"
  },
  "language_info": {
   "codemirror_mode": {
    "name": "ipython",
    "version": 3
   },
   "file_extension": ".py",
   "mimetype": "text/x-python",
   "name": "python",
   "nbconvert_exporter": "python",
   "pygments_lexer": "ipython3",
   "version": "3.6.7"
  }
 },
 "nbformat": 4,
 "nbformat_minor": 2
}
