{
 "cells": [
  {
   "cell_type": "code",
   "execution_count": 169,
   "metadata": {},
   "outputs": [],
   "source": [
    "from fastkml import  kml"
   ]
  },
  {
   "cell_type": "code",
   "execution_count": 170,
   "metadata": {},
   "outputs": [],
   "source": [
    "with open('ph1.kml','rt',encoding=\"utf-8\") as f:\n",
    "    doc=f.read().encode('utf-8') \n",
    "\n",
    "k = kml.KML()\n",
    "k.from_string(doc)"
   ]
  },
  {
   "cell_type": "code",
   "execution_count": 171,
   "metadata": {},
   "outputs": [
    {
     "name": "stdout",
     "output_type": "stream",
     "text": [
      "<kml xmlns=\"http://www.opengis.net/kml/2.2\">\n",
      "  <Document>\n",
      "    <name>未命名的路徑.kml</name>\n",
      "    <visibility>1</visibility>\n",
      "    <Style id=\"s_ylw-pushpin\">\n",
      "      <IconStyle>\n",
      "        <scale>1.1</scale>\n",
      "        <Icon>\n",
      "          <href>http://maps.google.com/mapfiles/kml/pushpin/ylw-pushpin.png</href>\n",
      "        </Icon>\n",
      "      </IconStyle>\n",
      "    </Style>\n",
      "    <Style id=\"s_ylw-pushpin_hl\">\n",
      "      <IconStyle>\n",
      "        <scale>1.3</scale>\n",
      "        <Icon>\n",
      "          <href>http://maps.google.com/mapfiles/kml/pushpin/ylw-pushpin.png</href>\n",
      "        </Icon>\n",
      "      </IconStyle>\n",
      "    </Style>\n",
      "    <StyleMap id=\"m_ylw-pushpin\">\n",
      "      <Pair>\n",
      "        <key>normal</key>\n",
      "        <styleUrl>#s_ylw-pushpin</styleUrl>\n",
      "      </Pair>\n",
      "      <Pair>\n",
      "        <key>highlight</key>\n",
      "        <styleUrl>#s_ylw-pushpin_hl</styleUrl>\n",
      "      </Pair>\n",
      "    </StyleMap>\n",
      "    <Placemark>\n",
      "      <name>未命名的路徑</name>\n",
      "      <visibility>1</visibility>\n",
      "      <styleUrl>#m_ylw-pushpin</styleUrl>\n",
      "      <LineString>\n",
      "        <coordinates>119.567758,23.617038,0.000000 119.564886,23.619032,0.000000 119.567135,23.619871,0.000000 119.567736,23.620559,0.000000 119.567268,23.621615,0.000000 119.567906,23.622372,0.000000 119.568772,23.622467,0.000000 119.569398,23.621784,0.000000 119.570089,23.620409,0.000000 119.571070,23.617853,0.000000 119.570176,23.616783,0.000000 119.568411,23.616743,0.000000</coordinates>\n",
      "      </LineString>\n",
      "    </Placemark>\n",
      "  </Document>\n",
      "</kml>\n",
      "\n"
     ]
    }
   ],
   "source": [
    "print (k.to_string(prettyprint=True))"
   ]
  },
  {
   "cell_type": "code",
   "execution_count": 172,
   "metadata": {},
   "outputs": [],
   "source": [
    "features = list(k.features())\n",
    "f2 = list(features[0].features())\n",
    "point=f2[0].geometry.coords"
   ]
  },
  {
   "cell_type": "code",
   "execution_count": 173,
   "metadata": {},
   "outputs": [],
   "source": [
    "lon=[]\n",
    "lat=[]\n",
    "for i in point:\n",
    "    lon.append(i[0])\n",
    "    lat.append(i[1])"
   ]
  },
  {
   "cell_type": "code",
   "execution_count": 174,
   "metadata": {},
   "outputs": [],
   "source": [
    "with open('coast.txt','w') as f:\n",
    "    f.write('COAST\\n')\n",
    "    f.write('1\\n')\n",
    "    f.write(str(len(lon))+'  1\\n')\n",
    "    for i,j in zip(lon,lat):\n",
    "        f.write(str(i)+'   '+str(j)+'\\n')"
   ]
  },
  {
   "cell_type": "code",
   "execution_count": null,
   "metadata": {},
   "outputs": [],
   "source": [
    "\n"
   ]
  },
  {
   "cell_type": "code",
   "execution_count": null,
   "metadata": {},
   "outputs": [],
   "source": []
  },
  {
   "cell_type": "code",
   "execution_count": null,
   "metadata": {},
   "outputs": [],
   "source": []
  }
 ],
 "metadata": {
  "kernelspec": {
   "display_name": "Python 3",
   "language": "python",
   "name": "python3"
  },
  "language_info": {
   "codemirror_mode": {
    "name": "ipython",
    "version": 3
   },
   "file_extension": ".py",
   "mimetype": "text/x-python",
   "name": "python",
   "nbconvert_exporter": "python",
   "pygments_lexer": "ipython3",
   "version": "3.6.7"
  }
 },
 "nbformat": 4,
 "nbformat_minor": 2
}
