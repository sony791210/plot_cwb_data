{
 "cells": [
  {
   "cell_type": "code",
   "execution_count": 3,
   "metadata": {},
   "outputs": [],
   "source": [
    "!rm -fr date.ok\n",
    "!ln -s ../1_getaro_datatime/date.ok"
   ]
  },
  {
   "cell_type": "code",
   "execution_count": 4,
   "metadata": {},
   "outputs": [],
   "source": [
    "import netCDF4\n",
    "import datetime\n",
    "import pandas as pd\n",
    "import requests as r\n",
    "from bs4 import BeautifulSoup\n",
    "import time as tt"
   ]
  },
  {
   "cell_type": "code",
   "execution_count": 5,
   "metadata": {},
   "outputs": [],
   "source": [
    "time=datetime.datetime(2019, 1, 1 ,0,0)\n",
    "time_end=datetime.datetime(2019, 1, 31 ,0,0)\n",
    "\n",
    "url1='http://tds0.ifremer.fr/thredds/catalog/CORIOLIS-ARGO-GDAC-OBS/'\n",
    "url3='/profiles/catalog.html'\n",
    "\n",
    "data=pd.read_csv('date.ok', sep='\\s+',header=None)\n",
    "i=0\n",
    "len(data)\n",
    "for j in range(len(data)):\n",
    "    url2=data[0][j][60:-17]\n",
    "    url=url1+url2+url3\n",
    "    res=r.get(url)\n",
    "    soup=BeautifulSoup(res.text,'html.parser')\n",
    "\n",
    "\n",
    "    d=[]\n",
    "    for i in soup.select('tt'):\n",
    "        d.append(i.text)\n",
    "\n",
    "    a=[]\n",
    "    t=[]\n",
    "    for i in range(3,len(d),3):\n",
    "        a.append(d[i])\n",
    "        t.append(datetime.datetime(int(d[i+2][0:4]), int(d[i+2][5:7]), int(d[i+2][8:10]),0,0))\n",
    "\n",
    "\n",
    "    for i in range(len(t)):\n",
    "        if(t[i] >= time):\n",
    "            url='http://tds0.ifremer.fr/thredds/dodsC/CORIOLIS-ARGO-GDAC-OBS/'+url2+'/profiles/'+str(a[i])\n",
    "            tt.sleep(5)\n",
    "            try:\n",
    "                dataset = netCDF4.Dataset(url)\n",
    "            except:\n",
    "                try:\n",
    "                    dataset = netCDF4.Dataset(url)\n",
    "                except:\n",
    "                    print(url)\n",
    "            try:\n",
    "                tin=datetime.datetime(1950, 1, 1,0,0) + datetime.timedelta(float(dataset['JULD'][0].data))\n",
    "                if( (tin >=time) & (tin<=time_end) ) :\n",
    "                    with open('data.final','a') as f:\n",
    "                        f.writelines(url)\n",
    "                        f.writelines('\\n')\n",
    "            except:\n",
    "                pass\n"
   ]
  },
  {
   "cell_type": "code",
   "execution_count": null,
   "metadata": {},
   "outputs": [],
   "source": []
  }
 ],
 "metadata": {
  "kernelspec": {
   "display_name": "Python 3",
   "language": "python",
   "name": "python3"
  },
  "language_info": {
   "codemirror_mode": {
    "name": "ipython",
    "version": 3
   },
   "file_extension": ".py",
   "mimetype": "text/x-python",
   "name": "python",
   "nbconvert_exporter": "python",
   "pygments_lexer": "ipython3",
   "version": "3.6.7"
  }
 },
 "nbformat": 4,
 "nbformat_minor": 2
}
