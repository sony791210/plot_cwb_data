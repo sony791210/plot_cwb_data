{
 "cells": [
  {
   "cell_type": "code",
   "execution_count": 1,
   "metadata": {},
   "outputs": [],
   "source": [
    "import pandas as pd\n",
    "from datetime import datetime,timedelta\n",
    "import time as tt\n",
    "import netCDF4\n",
    "import time as tt"
   ]
  },
  {
   "cell_type": "code",
   "execution_count": null,
   "metadata": {},
   "outputs": [],
   "source": []
  },
  {
   "cell_type": "markdown",
   "metadata": {},
   "source": [
    "# 抓取 argo 網站的資料 "
   ]
  },
  {
   "cell_type": "code",
   "execution_count": 2,
   "metadata": {},
   "outputs": [
    {
     "name": "stdout",
     "output_type": "stream",
     "text": [
      "--2019-02-15 13:07:47--  http://www.usgodae.org/pub/outgoing/argo/ar_index_global_traj.txt\n",
      "Resolving www.usgodae.org (www.usgodae.org)... 199.9.2.160, 2001:480:200:22::2:160\n",
      "Connecting to www.usgodae.org (www.usgodae.org)|199.9.2.160|:80... connected.\n",
      "HTTP request sent, awaiting response... 302 Found\n",
      "Location: https://www.usgodae.org//pub/outgoing/argo/ar_index_global_traj.txt [following]\n",
      "--2019-02-15 13:07:47--  https://www.usgodae.org//pub/outgoing/argo/ar_index_global_traj.txt\n",
      "Connecting to www.usgodae.org (www.usgodae.org)|199.9.2.160|:443... connected.\n",
      "HTTP request sent, awaiting response... 200 OK\n",
      "Length: 1330167 (1.3M) [text/plain]\n",
      "Saving to: ‘ar_index_global_traj.txt’\n",
      "\n",
      "ar_index_global_tra 100%[===================>]   1.27M   859KB/s    in 1.5s    \n",
      "\n",
      "2019-02-15 13:07:49 (859 KB/s) - ‘ar_index_global_traj.txt’ saved [1330167/1330167]\n",
      "\n"
     ]
    }
   ],
   "source": [
    "!rm -fr ar_index_global_traj.txt\n",
    "!wget http://www.usgodae.org/pub/outgoing/argo/ar_index_global_traj.txt --no-check-certificate"
   ]
  },
  {
   "cell_type": "markdown",
   "metadata": {},
   "source": [
    "## which time u want\n",
    "## 確定範圍及時間"
   ]
  },
  {
   "cell_type": "code",
   "execution_count": 3,
   "metadata": {},
   "outputs": [],
   "source": [
    "time_mk=datetime(2019, 1, 1,0,0)\n",
    "\n",
    "mod_mx_lon=128\n",
    "mod_mx_lat=30\n",
    "mod_mn_lon=116\n",
    "mod_mn_lat=18"
   ]
  },
  {
   "cell_type": "markdown",
   "metadata": {},
   "source": [
    "## 讀取ＡＲＧＯ資料"
   ]
  },
  {
   "cell_type": "code",
   "execution_count": null,
   "metadata": {},
   "outputs": [],
   "source": []
  },
  {
   "cell_type": "code",
   "execution_count": 4,
   "metadata": {},
   "outputs": [],
   "source": [
    "def getdata(url):\n",
    "    dataset = netCDF4.Dataset(url)\n",
    "    tt.sleep(2)\n",
    "    lon=dataset['LONGITUDE'][:]\n",
    "    lat=dataset['LATITUDE'][:]\n",
    "    x=lon[~lon.mask]\n",
    "    y=lat[~lat.mask]\n",
    "\n",
    "    date=dataset['JULD'][:][~lat.mask]\n",
    "    d=[]\n",
    "    for i in range(len(date)):\n",
    "        if(date[i] <=0):\n",
    "            date[i]=0\n",
    "        d.append(datetime(1950, 1, 1,0,0) + timedelta(date[i]))\n",
    "        \n",
    "    for i in range(len(d)):\n",
    "        logt=(d[i]>=time_mk)\n",
    "        logx=(x[i]>=mod_mn_lon and x[i]<=mod_mx_lon )\n",
    "        logy=(y[i]>=mod_mn_lat and y[i]<=mod_mx_lat )\n",
    "        if(logt and logx and logy):\n",
    "            with open('date.ok','a') as f:\n",
    "                f.writelines(url)\n",
    "                f.writelines('\\n')\n",
    "            break"
   ]
  },
  {
   "cell_type": "code",
   "execution_count": null,
   "metadata": {},
   "outputs": [],
   "source": []
  },
  {
   "cell_type": "code",
   "execution_count": 5,
   "metadata": {},
   "outputs": [],
   "source": [
    "data=pd.read_csv('ar_index_global_traj.txt',skiprows=8)\n",
    "time=[]\n",
    "st=[]\n",
    "for i in range(len(data)):\n",
    "    y=str(data['date_update'][i])[0:4]\n",
    "    m=str(data['date_update'][i])[4:6]\n",
    "    d=str(data['date_update'][i])[6:8]\n",
    "    t=datetime(int(y),int(m),int(d))\n",
    "    time.append(t)\n",
    "    loc0=(t>=now)\n",
    "    loc1=(data['latitude_max'][i]>=mod_mn_lat)\n",
    "    loc2=(data['latitude_min'][i]<=mod_mx_lat)\n",
    "    loc3=(data['longitude_max'][i]>=mod_mn_lon)\n",
    "    loc4=(data['longitude_min'][i]<=mod_mx_lon)\n",
    "    if(loc0 and loc1 and loc2 and loc3 and loc4):\n",
    "        st.append(i)"
   ]
  },
  {
   "cell_type": "markdown",
   "metadata": {},
   "source": [
    "## 需要時間跑"
   ]
  },
  {
   "cell_type": "code",
   "execution_count": 6,
   "metadata": {},
   "outputs": [
    {
     "name": "stdout",
     "output_type": "stream",
     "text": [
      "aoml/2901481/2901481_Rtraj.nc\n",
      "aoml/2901482/2901482_Rtraj.nc\n",
      "aoml/4901433/4901433_Rtraj.nc\n",
      "aoml/4901493/4901493_Rtraj.nc\n",
      "aoml/4901542/4901542_Rtraj.nc\n",
      "aoml/4901543/4901543_Rtraj.nc\n",
      "aoml/4901657/4901657_Rtraj.nc\n",
      "aoml/4901661/4901661_Rtraj.nc\n",
      "aoml/5901392/5901392_Rtraj.nc\n",
      "aoml/5901862/5901862_Rtraj.nc\n",
      "aoml/5901866/5901866_Rtraj.nc\n",
      "aoml/5902154/5902154_Rtraj.nc\n",
      "aoml/5902221/5902221_Rtraj.nc\n",
      "aoml/5902511/5902511_Dtraj.nc\n",
      "aoml/5902511/5902511_Rtraj.nc\n",
      "aoml/5903429/5903429_Rtraj.nc\n",
      "aoml/5903804/5903804_Rtraj.nc\n",
      "aoml/5903805/5903805_Rtraj.nc\n",
      "aoml/5903806/5903806_Rtraj.nc\n",
      "aoml/5903807/5903807_Rtraj.nc\n",
      "aoml/5903827/5903827_Rtraj.nc\n",
      "aoml/5903829/5903829_Rtraj.nc\n",
      "aoml/5903832/5903832_Rtraj.nc\n",
      "aoml/5903833/5903833_Rtraj.nc\n",
      "aoml/5904055/5904055_Rtraj.nc\n",
      "aoml/5904056/5904056_Rtraj.nc\n",
      "aoml/5904743/5904743_Rtraj.nc\n",
      "aoml/6900426/6900426_Rtraj.nc\n",
      "csio/2901495/2901495_Rtraj.nc\n",
      "csio/2901524/2901524_Rtraj.nc\n",
      "csio/2901526/2901526_Rtraj.nc\n",
      "csio/2901529/2901529_Rtraj.nc\n",
      "csio/2902562/2902562_Rtraj.nc\n",
      "csio/2902615/2902615_Rtraj.nc\n",
      "csio/2902676/2902676_Rtraj.nc\n",
      "csio/2902704/2902704_Rtraj.nc\n",
      "csio/2902717/2902717_Rtraj.nc\n",
      "csio/2902720/2902720_Rtraj.nc\n",
      "csio/2902729/2902729_Rtraj.nc\n",
      "csiro/5904909/5904909_Rtraj.nc\n",
      "csiro/5905388/5905388_Rtraj.nc\n",
      "incois/2902091/2902091_Rtraj.nc\n",
      "jma/2902417/2902417_Rtraj.nc\n",
      "jma/2902418/2902418_Rtraj.nc\n",
      "jma/2902420/2902420_Rtraj.nc\n",
      "jma/2902421/2902421_Rtraj.nc\n",
      "jma/2903000/2903000_Rtraj.nc\n",
      "jma/2903001/2903001_Rtraj.nc\n",
      "jma/2903189/2903189_Rtraj.nc\n",
      "jma/2903192/2903192_Rtraj.nc\n",
      "jma/4902137/4902137_Rtraj.nc\n",
      "jma/4902360/4902360_Rtraj.nc\n",
      "jma/5905047/5905047_Rtraj.nc\n",
      "jma/5905056/5905056_Rtraj.nc\n",
      "jma/5905060/5905060_Rtraj.nc\n",
      "kma/2901735/2901735_Rtraj.nc\n",
      "http://tds0.ifremer.fr/thredds/dodsC/CORIOLIS-ARGO-GDAC-OBS/kma/2901735/2901735_Rtraj.nc\n",
      "kma/2901736/2901736_Rtraj.nc\n",
      "http://tds0.ifremer.fr/thredds/dodsC/CORIOLIS-ARGO-GDAC-OBS/kma/2901736/2901736_Rtraj.nc\n",
      "kma/2901740/2901740_Rtraj.nc\n",
      "http://tds0.ifremer.fr/thredds/dodsC/CORIOLIS-ARGO-GDAC-OBS/kma/2901740/2901740_Rtraj.nc\n",
      "kma/2901745/2901745_Rtraj.nc\n",
      "http://tds0.ifremer.fr/thredds/dodsC/CORIOLIS-ARGO-GDAC-OBS/kma/2901745/2901745_Rtraj.nc\n",
      "kma/2901746/2901746_Rtraj.nc\n",
      "http://tds0.ifremer.fr/thredds/dodsC/CORIOLIS-ARGO-GDAC-OBS/kma/2901746/2901746_Rtraj.nc\n"
     ]
    }
   ],
   "source": [
    "for i in range(len(st)):\n",
    "    url='http://tds0.ifremer.fr/thredds/dodsC/CORIOLIS-ARGO-GDAC-OBS/'+data.iloc[st[i],:][0]\n",
    "    print(data.iloc[st[i],:][0])\n",
    "    tt.sleep(2)\n",
    "    try:\n",
    "        getdata(url)\n",
    "    except:\n",
    "        try:\n",
    "            tt.sleep(5)\n",
    "            getdata(url)\n",
    "        except:\n",
    "            print(url)"
   ]
  },
  {
   "cell_type": "code",
   "execution_count": null,
   "metadata": {},
   "outputs": [],
   "source": []
  },
  {
   "cell_type": "code",
   "execution_count": null,
   "metadata": {},
   "outputs": [],
   "source": []
  }
 ],
 "metadata": {
  "kernelspec": {
   "display_name": "Python 3",
   "language": "python",
   "name": "python3"
  },
  "language_info": {
   "codemirror_mode": {
    "name": "ipython",
    "version": 3
   },
   "file_extension": ".py",
   "mimetype": "text/x-python",
   "name": "python",
   "nbconvert_exporter": "python",
   "pygments_lexer": "ipython3",
   "version": "3.6.7"
  }
 },
 "nbformat": 4,
 "nbformat_minor": 2
}
