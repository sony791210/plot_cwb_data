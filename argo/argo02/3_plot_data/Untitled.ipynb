{
 "cells": [
  {
   "cell_type": "code",
   "execution_count": 5,
   "metadata": {},
   "outputs": [],
   "source": [
    "!unlink data.final\n",
    "!ln -s ../2_download_data/data.final"
   ]
  },
  {
   "cell_type": "code",
   "execution_count": 6,
   "metadata": {},
   "outputs": [],
   "source": [
    "\n",
    "#import defplot\n",
    "import pandas as pd\n",
    "import datetime\n",
    "import netCDF4\n",
    "import time as t\n",
    "\n",
    "import matplotlib.pyplot as plt\n",
    "import xarray as xr\n",
    "import os"
   ]
  },
  {
   "cell_type": "code",
   "execution_count": 23,
   "metadata": {},
   "outputs": [],
   "source": [
    "def outer(h1,s1,h2,s2,f1):\n",
    "    x=s1-(s2-s1)*(h1-f1)/(h2-h1)\n",
    "    return x\n",
    "\n",
    "def inner(h1,s1,h2,s2,f1):\n",
    "    x=s1+(s2-s1)*(f1-h1)/(h2-h1)\n",
    "    return x\n",
    "\n",
    "\n",
    "def regu(h,s):\n",
    "    z=[0,2,4,6,8,10,12,15,20,25,30,35,40,45,50,60,70,80,90,100,125,150,200,250,300,350,400,500,600,700,800,900,1000]\n",
    "    t=[]\n",
    "    for i in z:\n",
    "        for st,j in enumerate(h):\n",
    "            if(j > i and st == 0):\n",
    "                t.append(outer(h[0],s[0],h[1],s[1],i))\n",
    "                break\n",
    "            elif(j > i):\n",
    "                t.append(inner(h[st-1],s[st-1],h[st],s[st],i))\n",
    "                break\n",
    "            elif(j==i):\n",
    "                t.append(s[st])\n",
    "                break\n",
    "    return t\n",
    "def rmse(ar1,ar2):\n",
    "    s=0\n",
    "    c=0\n",
    "    for i in range(len(ar1)):\n",
    "        c=c+1\n",
    "        dif=(ar1[i]-ar2[i])**2\n",
    "        s=s+dif\n",
    "    ans=(s/c)**0.5\n",
    "    return ans\n",
    "\n",
    "\n",
    "\n",
    "def com_plot(url,da,st):\n",
    "    url=url\n",
    "#    ds=xr.open_dataset('../data/'+da+'.nc')\n",
    "\n",
    "    dsh=xr.open_dataset('data_hycom/ST_'+str(da)+'.nc')\n",
    "\n",
    "\n",
    "    argo_name=url.split('/')[6]\n",
    "    argo_num =url.split('/')[7]\n",
    "\n",
    "\n",
    "    dataset = netCDF4.Dataset(url)\n",
    "    time=datetime.datetime(1950, 1, 1,0,0) + datetime.timedelta(float(dataset['JULD'][0].data))+datetime.timedelta(hours=8)\n",
    "    hr=time.strftime(\"%H\")\n",
    "    x=dataset['LONGITUDE'][0].data\n",
    "    y=dataset['LATITUDE'][0].data\n",
    "\n",
    "    h=dataset['PRES'][0].data\n",
    "    temp=dataset['TEMP'][0].data\n",
    "    salt=dataset['PSAL'][0].data\n",
    "\n",
    "\n",
    "#    sst=ds['SST'].sel(MX=x,MY=y,MT=int(hr), method='nearest').values\n",
    "#    sal=ds['SAL'].sel(MX=x,MY=y,MT=int(hr), method='nearest').values\n",
    "#    dep=ds['MZ'].values\n",
    "\n",
    "##############   key point  u need to change  LON170_320 and LAT182_332 to your data  ##############\n",
    "    hsst=dsh['TEMP'].sel(LON170_320=x,LAT182_332=y, method='nearest').values.reshape(-1,)\n",
    "#    hsal=dsh['SALINITY'].sel(LON=x,LAT=y, method='nearest').values.reshape(-1,)\n",
    "    hdep=dsh['DEPTH'].values\n",
    "\n",
    "\n",
    "    word='photo/'+str(time.strftime(\"%Y%m%d\"))\n",
    "    result=os.path.abspath(word)\n",
    "    if not os.path.exists(result):\n",
    "          os.mkdir(result)\n",
    "\n",
    "#####   this is for schism ######\n",
    "    plt.plot(temp,h*-1,'--r')\n",
    "#    plt.plot(sst,dep*-1,'b')\n",
    "    plt.plot(hsst,hdep*-1,'g')\n",
    "    plt.ylim(-1000,0)\n",
    "#    plt.legend(labels=['real', 'model','hycom'])\n",
    "    rmse_hycom_temp=rmse(regu(hdep,hsst),regu(h,temp))\n",
    "#    plt.title('argo '+argo_name+'/'+argo_num+' sst rmse is '+str('%.4f'% rmse_temp))\n",
    "    plt.xlabel('temp(℃)')\n",
    "    plt.ylabel('depth(m)')\n",
    "    dirs=os.path.join(result,str(st)+'_temp.png')\n",
    "    plt.savefig(dirs)\n",
    "\n",
    "    plt.clf()\n",
    "\n",
    "    rmse_salt=np.nan\n",
    "    rmse_hycom_temp=np.nan\n",
    "\n",
    "#    plt.plot(salt,h*-1,'--r')\n",
    "#    plt.plot(sal,dep*-1,'b')\n",
    "#    plt.plot(hsal,hdep*-1,'g')\n",
    "#    plt.ylim(-1000,0)\n",
    "#    plt.legend(labels=['real', 'model','hycom'])\n",
    "#    rmse_salt=rmse(sal,regu(h,salt))\n",
    "#    rmse_hycom_salt=rmse(regu(hdep,hsal),regu(h,salt))\n",
    "#    plt.title('argo '+argo_name+'/'+argo_num+' salt  rmse is '+str('%.4f'% rmse_salt))\n",
    "#    plt.xlabel('salt')\n",
    "#    plt.ylabel('depth(m)')\n",
    "#    dirs=os.path.join(result,str(st)+'_salt.png')\n",
    "#    plt.savefig(dirs)\n",
    "\n",
    "#    plt.clf()\n",
    "\n",
    "\n",
    "#    with open('info','a') as f:\n",
    "#         f.writelines(str(st)+'  '+'x= '+str(x)+' y= '+str(y)+' date = '+time.strftime(\"%Y%m%d %H\")+'  '+str('%.4f'% rmse_temp)+'  '+str('%.4f'% rmse_salt)+' '+str('%.4f'% rmse_hycom_temp)+' '+str('%.4f'% rmse_hycom_salt))\n",
    "#         f.writelines('\\n')\n"
   ]
  },
  {
   "cell_type": "code",
   "execution_count": 11,
   "metadata": {},
   "outputs": [],
   "source": [
    "data=pd.read_csv('data.final',sep='\\s+',header=None)"
   ]
  },
  {
   "cell_type": "code",
   "execution_count": 16,
   "metadata": {},
   "outputs": [],
   "source": [
    "dataset = netCDF4.Dataset(url)\n",
    "time=datetime.datetime(1950, 1, 1,0,0) + datetime.timedelta(float(dataset['JULD'][0].data))+datetime.timedelta(hours=8)\n",
    "hr=time.strftime(\"%H\")\n",
    "x=dataset['LONGITUDE'][0].data\n",
    "y=dataset['LATITUDE'][0].data\n",
    "\n",
    "h=dataset['PRES'][0].data\n",
    "temp=dataset['TEMP'][0].data\n",
    "salt=dataset['PSAL'][0].data"
   ]
  },
  {
   "cell_type": "code",
   "execution_count": 22,
   "metadata": {},
   "outputs": [
    {
     "data": {
      "text/plain": [
       "<xarray.Dataset>\n",
       "Dimensions:          (DEPTH: 40, LAT182_332: 151, LON170_320: 151, TIME: 1, bnds: 2)\n",
       "Coordinates:\n",
       "  * LON170_320       (LON170_320) float64 116.0 116.1 116.2 ... 127.9 128.0\n",
       "  * LAT182_332       (LAT182_332) float64 18.0 18.08 18.16 ... 29.84 29.92 30.0\n",
       "  * DEPTH            (DEPTH) float64 0.0 2.0 4.0 6.0 ... 3e+03 4e+03 5e+03\n",
       "  * TIME             (TIME) datetime64[ns] 2019-01-27\n",
       "Dimensions without coordinates: bnds\n",
       "Data variables:\n",
       "    LON170_320_bnds  (LON170_320, bnds) float64 9.969e+36 ... 9.969e+36\n",
       "    LAT182_332_bnds  (LAT182_332, bnds) float64 9.969e+36 ... 9.969e+36\n",
       "    DEPTH_bnds       (DEPTH, bnds) float64 -1.0 1.0 1.0 ... 4.5e+03 5.5e+03\n",
       "    TEMP             (TIME, DEPTH, LAT182_332, LON170_320) float32 ...\n",
       "Attributes:\n",
       "    history:      FERRET V6.1   21-Feb-19\n",
       "    Conventions:  CF-1.0"
      ]
     },
     "execution_count": 22,
     "metadata": {},
     "output_type": "execute_result"
    }
   ],
   "source": [
    "dsh"
   ]
  },
  {
   "cell_type": "code",
   "execution_count": null,
   "metadata": {},
   "outputs": [],
   "source": []
  },
  {
   "cell_type": "code",
   "execution_count": null,
   "metadata": {},
   "outputs": [],
   "source": []
  },
  {
   "cell_type": "code",
   "execution_count": 24,
   "metadata": {},
   "outputs": [
    {
     "ename": "IndexError",
     "evalue": "list index out of range",
     "output_type": "error",
     "traceback": [
      "\u001b[0;31m---------------------------------------------------------------------------\u001b[0m",
      "\u001b[0;31mIndexError\u001b[0m                                Traceback (most recent call last)",
      "\u001b[0;32m<ipython-input-24-e0c26eea33ea>\u001b[0m in \u001b[0;36m<module>\u001b[0;34m()\u001b[0m\n\u001b[1;32m      4\u001b[0m     \u001b[0mtime\u001b[0m\u001b[0;34m=\u001b[0m\u001b[0mdatetime\u001b[0m\u001b[0;34m.\u001b[0m\u001b[0mdatetime\u001b[0m\u001b[0;34m(\u001b[0m\u001b[0;36m1950\u001b[0m\u001b[0;34m,\u001b[0m \u001b[0;36m1\u001b[0m\u001b[0;34m,\u001b[0m \u001b[0;36m1\u001b[0m\u001b[0;34m,\u001b[0m\u001b[0;36m0\u001b[0m\u001b[0;34m,\u001b[0m\u001b[0;36m0\u001b[0m\u001b[0;34m)\u001b[0m \u001b[0;34m+\u001b[0m \u001b[0mdatetime\u001b[0m\u001b[0;34m.\u001b[0m\u001b[0mtimedelta\u001b[0m\u001b[0;34m(\u001b[0m\u001b[0mfloat\u001b[0m\u001b[0;34m(\u001b[0m\u001b[0mdataset\u001b[0m\u001b[0;34m[\u001b[0m\u001b[0;34m'JULD'\u001b[0m\u001b[0;34m]\u001b[0m\u001b[0;34m[\u001b[0m\u001b[0;36m0\u001b[0m\u001b[0;34m]\u001b[0m\u001b[0;34m.\u001b[0m\u001b[0mdata\u001b[0m\u001b[0;34m)\u001b[0m\u001b[0;34m)\u001b[0m\u001b[0;34m+\u001b[0m\u001b[0mdatetime\u001b[0m\u001b[0;34m.\u001b[0m\u001b[0mtimedelta\u001b[0m\u001b[0;34m(\u001b[0m\u001b[0mhours\u001b[0m\u001b[0;34m=\u001b[0m\u001b[0;36m8\u001b[0m\u001b[0;34m)\u001b[0m\u001b[0;34m\u001b[0m\u001b[0;34m\u001b[0m\u001b[0m\n\u001b[1;32m      5\u001b[0m     \u001b[0mds\u001b[0m\u001b[0;34m=\u001b[0m\u001b[0mtime\u001b[0m\u001b[0;34m.\u001b[0m\u001b[0mstrftime\u001b[0m\u001b[0;34m(\u001b[0m\u001b[0;34m\"%Y%m%d\"\u001b[0m\u001b[0;34m)\u001b[0m\u001b[0;34m\u001b[0m\u001b[0;34m\u001b[0m\u001b[0m\n\u001b[0;32m----> 6\u001b[0;31m     \u001b[0mcom_plot\u001b[0m\u001b[0;34m(\u001b[0m\u001b[0murl\u001b[0m\u001b[0;34m,\u001b[0m\u001b[0mds\u001b[0m\u001b[0;34m,\u001b[0m\u001b[0mst\u001b[0m\u001b[0;34m)\u001b[0m\u001b[0;34m\u001b[0m\u001b[0;34m\u001b[0m\u001b[0m\n\u001b[0m",
      "\u001b[0;32m<ipython-input-23-2132e45c4174>\u001b[0m in \u001b[0;36mcom_plot\u001b[0;34m(url, da, st)\u001b[0m\n\u001b[1;32m     78\u001b[0m     \u001b[0mplt\u001b[0m\u001b[0;34m.\u001b[0m\u001b[0mylim\u001b[0m\u001b[0;34m(\u001b[0m\u001b[0;34m-\u001b[0m\u001b[0;36m1000\u001b[0m\u001b[0;34m,\u001b[0m\u001b[0;36m0\u001b[0m\u001b[0;34m)\u001b[0m\u001b[0;34m\u001b[0m\u001b[0;34m\u001b[0m\u001b[0m\n\u001b[1;32m     79\u001b[0m \u001b[0;31m#    plt.legend(labels=['real', 'model','hycom'])\u001b[0m\u001b[0;34m\u001b[0m\u001b[0;34m\u001b[0m\u001b[0;34m\u001b[0m\u001b[0m\n\u001b[0;32m---> 80\u001b[0;31m     \u001b[0mrmse_hycom_temp\u001b[0m\u001b[0;34m=\u001b[0m\u001b[0mrmse\u001b[0m\u001b[0;34m(\u001b[0m\u001b[0mregu\u001b[0m\u001b[0;34m(\u001b[0m\u001b[0mhdep\u001b[0m\u001b[0;34m,\u001b[0m\u001b[0mhsst\u001b[0m\u001b[0;34m)\u001b[0m\u001b[0;34m,\u001b[0m\u001b[0mregu\u001b[0m\u001b[0;34m(\u001b[0m\u001b[0mh\u001b[0m\u001b[0;34m,\u001b[0m\u001b[0mtemp\u001b[0m\u001b[0;34m)\u001b[0m\u001b[0;34m)\u001b[0m\u001b[0;34m\u001b[0m\u001b[0;34m\u001b[0m\u001b[0m\n\u001b[0m\u001b[1;32m     81\u001b[0m \u001b[0;31m#    plt.title('argo '+argo_name+'/'+argo_num+' sst rmse is '+str('%.4f'% rmse_temp))\u001b[0m\u001b[0;34m\u001b[0m\u001b[0;34m\u001b[0m\u001b[0;34m\u001b[0m\u001b[0m\n\u001b[1;32m     82\u001b[0m     \u001b[0mplt\u001b[0m\u001b[0;34m.\u001b[0m\u001b[0mxlabel\u001b[0m\u001b[0;34m(\u001b[0m\u001b[0;34m'temp(℃)'\u001b[0m\u001b[0;34m)\u001b[0m\u001b[0;34m\u001b[0m\u001b[0;34m\u001b[0m\u001b[0m\n",
      "\u001b[0;32m<ipython-input-23-2132e45c4174>\u001b[0m in \u001b[0;36mrmse\u001b[0;34m(ar1, ar2)\u001b[0m\n\u001b[1;32m     28\u001b[0m     \u001b[0;32mfor\u001b[0m \u001b[0mi\u001b[0m \u001b[0;32min\u001b[0m \u001b[0mrange\u001b[0m\u001b[0;34m(\u001b[0m\u001b[0mlen\u001b[0m\u001b[0;34m(\u001b[0m\u001b[0mar1\u001b[0m\u001b[0;34m)\u001b[0m\u001b[0;34m)\u001b[0m\u001b[0;34m:\u001b[0m\u001b[0;34m\u001b[0m\u001b[0;34m\u001b[0m\u001b[0m\n\u001b[1;32m     29\u001b[0m         \u001b[0mc\u001b[0m\u001b[0;34m=\u001b[0m\u001b[0mc\u001b[0m\u001b[0;34m+\u001b[0m\u001b[0;36m1\u001b[0m\u001b[0;34m\u001b[0m\u001b[0;34m\u001b[0m\u001b[0m\n\u001b[0;32m---> 30\u001b[0;31m         \u001b[0mdif\u001b[0m\u001b[0;34m=\u001b[0m\u001b[0;34m(\u001b[0m\u001b[0mar1\u001b[0m\u001b[0;34m[\u001b[0m\u001b[0mi\u001b[0m\u001b[0;34m]\u001b[0m\u001b[0;34m-\u001b[0m\u001b[0mar2\u001b[0m\u001b[0;34m[\u001b[0m\u001b[0mi\u001b[0m\u001b[0;34m]\u001b[0m\u001b[0;34m)\u001b[0m\u001b[0;34m**\u001b[0m\u001b[0;36m2\u001b[0m\u001b[0;34m\u001b[0m\u001b[0;34m\u001b[0m\u001b[0m\n\u001b[0m\u001b[1;32m     31\u001b[0m         \u001b[0ms\u001b[0m\u001b[0;34m=\u001b[0m\u001b[0ms\u001b[0m\u001b[0;34m+\u001b[0m\u001b[0mdif\u001b[0m\u001b[0;34m\u001b[0m\u001b[0;34m\u001b[0m\u001b[0m\n\u001b[1;32m     32\u001b[0m     \u001b[0mans\u001b[0m\u001b[0;34m=\u001b[0m\u001b[0;34m(\u001b[0m\u001b[0ms\u001b[0m\u001b[0;34m/\u001b[0m\u001b[0mc\u001b[0m\u001b[0;34m)\u001b[0m\u001b[0;34m**\u001b[0m\u001b[0;36m0.5\u001b[0m\u001b[0;34m\u001b[0m\u001b[0;34m\u001b[0m\u001b[0m\n",
      "\u001b[0;31mIndexError\u001b[0m: list index out of range"
     ]
    },
    {
     "data": {
      "image/png": "[encoded data removed]",
      "text/plain": [
       "<Figure size 432x288 with 1 Axes>"
      ]
     },
     "metadata": {
      "needs_background": "light"
     },
     "output_type": "display_data"
    }
   ],
   "source": [
    "for st,url in enumerate(data[0]):\n",
    "    dataset = netCDF4.Dataset(url)\n",
    "    t.sleep(1)\n",
    "    time=datetime.datetime(1950, 1, 1,0,0) + datetime.timedelta(float(dataset['JULD'][0].data))+datetime.timedelta(hours=8)\n",
    "    ds=time.strftime(\"%Y%m%d\")\n",
    "    try:\n",
    "        print(ds,dt)\n",
    "        com_plot(url,ds,st)\n",
    "    except:\n",
    "        try:\n",
    "            print('err')\n",
    "            defplot.com_plot(url,ds,st)\n",
    "        except:\n",
    "            with open('err','a') as f:\n",
    "                 f.writelines(str(st)+'   '+str(url)+'  '+str(ds))\n",
    "                 f.writelines('\\n')"
   ]
  },
  {
   "cell_type": "code",
   "execution_count": null,
   "metadata": {},
   "outputs": [],
   "source": []
  },
  {
   "cell_type": "code",
   "execution_count": null,
   "metadata": {},
   "outputs": [],
   "source": []
  },
  {
   "cell_type": "code",
   "execution_count": null,
   "metadata": {},
   "outputs": [],
   "source": []
  }
 ],
 "metadata": {
  "kernelspec": {
   "display_name": "Python 3",
   "language": "python",
   "name": "python3"
  },
  "language_info": {
   "codemirror_mode": {
    "name": "ipython",
    "version": 3
   },
   "file_extension": ".py",
   "mimetype": "text/x-python",
   "name": "python",
   "nbconvert_exporter": "python",
   "pygments_lexer": "ipython3",
   "version": "3.6.7"
  }
 },
 "nbformat": 4,
 "nbformat_minor": 2
}
