{
 "cells": [
  {
   "cell_type": "code",
   "execution_count": 1,
   "metadata": {},
   "outputs": [],
   "source": [
    "from netCDF4 import Dataset\n",
    "import time\n",
    "import numpy\n",
    "from datetime import datetime, timedelta\n",
    "from netCDF4 import num2date, date2num\n",
    "import pandas as pd"
   ]
  },
  {
   "cell_type": "code",
   "execution_count": 3,
   "metadata": {},
   "outputs": [],
   "source": [
    "# write data name you want\n",
    "with Dataset('wins.nc', 'w',format=\"NETCDF4\") as rootgrp:\n",
    "    #set ur Dimension \n",
    "    #lon is 116~128  0.025\n",
    "    #lat is 18~30    0.025\n",
    "    time = rootgrp.createDimension(\"time\", None)\n",
    "    lat = rootgrp.createDimension(\"lat\", 481)\n",
    "    lon = rootgrp.createDimension(\"lon\", 481) \n",
    "    \n",
    "    #set lon lat\n",
    "    lonx=np.arange(116,128.01,0.025)\n",
    "    laty=np.arange(18,30.01,0.025)\n",
    "    \n",
    "    #set variable \n",
    "    times = rootgrp.createVariable(\"time\",\"f8\",(\"time\",))\n",
    "    latitudes = rootgrp.createVariable(\"lat\",\"f4\",(\"lat\",))\n",
    "    longitudes = rootgrp.createVariable(\"lon\",\"f4\",(\"lon\",))\n",
    "    sst = rootgrp.createVariable(\"sst\",\"f4\",(\"time\",\"lat\",\"lon\"),fill_value=-999.)\n",
    "    \n",
    "    #set the info.\n",
    "    longitudes.axix=\"X\"\n",
    "    longitudes.units = \"degrees east\"\n",
    "    longitudes.point_spacing=\"even\"\n",
    "    longitudes.modulo=360.\n",
    "    longitudes.standard_name=\"longitude\"\n",
    "\n",
    "    latitudes.axix=\"Y\"\n",
    "    latitudes.units = \"degrees north\"\n",
    "    latitudes.point_spacing=\"even\"\n",
    "    latitudes.standard_name=\"latitude\"\n",
    "    \n",
    "    times.units = \"hours since 2019-03-06 00:00:00.0\"\n",
    "    times.axis=\"T\"\n",
    "    times.time_origin=\"06-MAR-2019\"\n",
    "    times.standard_name=\"time\"\n",
    "    \n",
    "    sst.long_name=\"water_temp\"\n",
    "    sst.missing_value=-999.\n",
    "    \n",
    "    #read data\n",
    "    data=pd.read_csv('OCM.19030600-sst.000',sep='\\s+',header=None)\n",
    "    data2=pd.read_csv('OCM.19030600-sst.001',sep='\\s+',header=None)\n",
    "    longitudes[:]=lonx\n",
    "    latitudes[:]=laty\n",
    "    \n",
    "    sst[0,:,:]=data[2].values.reshape(481,481)\n",
    "    sst[1,:,:]=data2[2].values.reshape(481,481)\n",
    "    \n",
    "    # set the time from to \n",
    "    dates = [datetime(2019,3,6)+n*timedelta(days=1) for n in range(sst.shape[0])]\n",
    "    times[:] = date2num(dates,units=times.units)\n",
    "    dates = num2date(times[:],units=times.units)"
   ]
  },
  {
   "cell_type": "code",
   "execution_count": null,
   "metadata": {},
   "outputs": [],
   "source": []
  },
  {
   "cell_type": "code",
   "execution_count": null,
   "metadata": {},
   "outputs": [],
   "source": []
  },
  {
   "cell_type": "code",
   "execution_count": null,
   "metadata": {},
   "outputs": [],
   "source": []
  },
  {
   "cell_type": "code",
   "execution_count": null,
   "metadata": {},
   "outputs": [],
   "source": []
  },
  {
   "cell_type": "code",
   "execution_count": null,
   "metadata": {},
   "outputs": [],
   "source": []
  },
  {
   "cell_type": "code",
   "execution_count": null,
   "metadata": {},
   "outputs": [],
   "source": []
  },
  {
   "cell_type": "code",
   "execution_count": null,
   "metadata": {},
   "outputs": [],
   "source": []
  },
  {
   "cell_type": "code",
   "execution_count": null,
   "metadata": {},
   "outputs": [],
   "source": []
  },
  {
   "cell_type": "code",
   "execution_count": null,
   "metadata": {},
   "outputs": [],
   "source": []
  },
  {
   "cell_type": "code",
   "execution_count": null,
   "metadata": {},
   "outputs": [],
   "source": [
    "\n",
    "\n",
    "\n"
   ]
  },
  {
   "cell_type": "code",
   "execution_count": null,
   "metadata": {},
   "outputs": [],
   "source": []
  },
  {
   "cell_type": "code",
   "execution_count": null,
   "metadata": {},
   "outputs": [],
   "source": []
  },
  {
   "cell_type": "code",
   "execution_count": null,
   "metadata": {},
   "outputs": [],
   "source": []
  },
  {
   "cell_type": "code",
   "execution_count": null,
   "metadata": {},
   "outputs": [],
   "source": []
  },
  {
   "cell_type": "code",
   "execution_count": null,
   "metadata": {},
   "outputs": [],
   "source": []
  },
  {
   "cell_type": "code",
   "execution_count": null,
   "metadata": {},
   "outputs": [],
   "source": []
  },
  {
   "cell_type": "code",
   "execution_count": null,
   "metadata": {},
   "outputs": [],
   "source": []
  },
  {
   "cell_type": "code",
   "execution_count": null,
   "metadata": {},
   "outputs": [],
   "source": []
  },
  {
   "cell_type": "code",
   "execution_count": null,
   "metadata": {},
   "outputs": [],
   "source": []
  },
  {
   "cell_type": "code",
   "execution_count": null,
   "metadata": {},
   "outputs": [],
   "source": []
  },
  {
   "cell_type": "code",
   "execution_count": null,
   "metadata": {},
   "outputs": [],
   "source": []
  }
 ],
 "metadata": {
  "kernelspec": {
   "display_name": "Python 3",
   "language": "python",
   "name": "python3"
  },
  "language_info": {
   "codemirror_mode": {
    "name": "ipython",
    "version": 3
   },
   "file_extension": ".py",
   "mimetype": "text/x-python",
   "name": "python",
   "nbconvert_exporter": "python",
   "pygments_lexer": "ipython3",
   "version": "3.6.7"
  }
 },
 "nbformat": 4,
 "nbformat_minor": 2
}
