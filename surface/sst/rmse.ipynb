{
 "cells": [
  {
   "cell_type": "code",
   "execution_count": 11,
   "metadata": {},
   "outputs": [],
   "source": [
    "import os\n",
    "os.environ['PROJ_LIB'] = '/opt/conda/share/proj'\n",
    "%matplotlib inline\n",
    "import numpy as np\n",
    "import pandas as pd\n",
    "import matplotlib.pyplot as plt\n",
    "from mpl_toolkits.basemap import Basemap\n",
    "from matplotlib.patches import Polygon\n",
    "from matplotlib.collections import PatchCollection\n",
    "from datetime import datetime,timedelta\n",
    "from netCDF4 import Dataset\n",
    "import cmocean as cm\n",
    "import matplotlib"
   ]
  },
  {
   "cell_type": "code",
   "execution_count": 5,
   "metadata": {},
   "outputs": [],
   "source": [
    "\n",
    "\n",
    "\n",
    "def dropnan(arr):\n",
    "    ocm_data=[]\n",
    "    for i in arr:\n",
    "        if(i != -1e+34):\n",
    "            ocm_data.append(i)\n",
    "    ocm_data=np.asarray(ocm_data)\n",
    "    return ocm_data\n",
    "\n",
    "def dropnan2(arr):\n",
    "    ocm_data=[]\n",
    "    for i in arr:\n",
    "        if(str(i)!='nan'):\n",
    "            ocm_data.append(i)\n",
    "    ocm_data=np.asarray(ocm_data)\n",
    "    return ocm_data\n",
    "\n",
    "\n",
    "\n",
    "def reshape(arr):\n",
    "    data=np.asarray(arr.reshape(481*481))\n",
    "    return data\n",
    "\n",
    "def rmse(arr):\n",
    "    day=[]\n",
    "    for i in range(len(arr)):\n",
    "        dd=reshape(arr[i,:,:])\n",
    "        dd=dropnan(dd)\n",
    "        rmse=np.sqrt(np.sum(dd*dd)/len(dd))\n",
    "        day.append(rmse)\n",
    "    return day"
   ]
  },
  {
   "cell_type": "code",
   "execution_count": 6,
   "metadata": {},
   "outputs": [],
   "source": [
    "data=Dataset(\"./data.nc\")\n",
    "\n",
    "t=data.variables['MT2'][:].data\n",
    "t=[int(i) for i in t]\n",
    "ocm2=data.variables['OCM2'][:]\n",
    "rtofs=data.variables['RTOFS'][:]"
   ]
  },
  {
   "cell_type": "code",
   "execution_count": 7,
   "metadata": {},
   "outputs": [],
   "source": [
    "time_star=datetime(int(2019),int(1),int(1))\n",
    "time_end=datetime(int(2019),int(11),int(1))\n",
    "time=[]\n",
    "for i in range(int(time_star.strftime('%j')),int(time_end.strftime('%j'))):\n",
    "    time.append(time_star)\n",
    "    time_star=time_star+timedelta(days=1)"
   ]
  },
  {
   "cell_type": "code",
   "execution_count": 8,
   "metadata": {},
   "outputs": [],
   "source": [
    "t1=int(datetime(int(2019),int(1),int(1)).strftime('%j'))\n",
    "t2=int(datetime(int(2019),int(2),int(1)).strftime('%j'))\n",
    "t3=int(datetime(int(2019),int(3),int(1)).strftime('%j'))\n",
    "t4=int(datetime(int(2019),int(4),int(1)).strftime('%j'))\n",
    "t5=int(datetime(int(2019),int(5),int(1)).strftime('%j'))\n",
    "t6=int(datetime(int(2019),int(6),int(1)).strftime('%j'))\n",
    "t7=int(datetime(int(2019),int(7),int(1)).strftime('%j'))\n",
    "t8=int(datetime(int(2019),int(8),int(1)).strftime('%j'))\n",
    "t9=int(datetime(int(2019),int(9),int(1)).strftime('%j'))\n",
    "t10=int(datetime(int(2019),int(10),int(1)).strftime('%j'))\n"
   ]
  },
  {
   "cell_type": "code",
   "execution_count": 9,
   "metadata": {},
   "outputs": [
    {
     "name": "stderr",
     "output_type": "stream",
     "text": [
      "/opt/conda/lib/python3.6/site-packages/ipykernel_launcher.py:31: RuntimeWarning: invalid value encountered in double_scalars\n"
     ]
    }
   ],
   "source": [
    "day_ocm=rmse(ocm2)\n",
    "\n",
    "day_rtofs=rmse(rtofs)\n"
   ]
  },
  {
   "cell_type": "code",
   "execution_count": 12,
   "metadata": {},
   "outputs": [],
   "source": [
    "myfont = matplotlib.font_manager.FontProperties(fname=r'msyhl.ttc')"
   ]
  },
  {
   "cell_type": "code",
   "execution_count": 13,
   "metadata": {},
   "outputs": [],
   "source": [
    "\n",
    "box1=[dropnan2(day_ocm[t.index(t1):t.index(t2)]),dropnan2(day_ocm[t.index(t2):t.index(59)]),\\\n",
    "     dropnan2(day_ocm[t.index(59):t.index(t4)]),dropnan2(day_ocm[t.index(t4):t.index(t5)])]\n",
    "#box=[dropnan2(day_ocm[t.index(t1):t.index(t2)]),day_ocm[t.index(t2):t.index(t3)],\\\n",
    "#     day_ocm[t.index(t3):t.index(t4)],day_ocm[t.index(t4):t.index(t5)],\\\n",
    "#     day_ocm[t.index(t5):t.index(t6)],day_ocm[t.index(t6):t.index(t7)],\\\n",
    "#     dropnan2(day_ocm[t.index(t7):t.index(t8)]),dropnan2(day_ocm[t.index(t8):t.index(t9)]),\\\n",
    "#     dropnan2(day_ocm[t.index(t9):t.index(t10)]),dropnan2(day_ocm[t.index(t10):])]\n",
    "\n"
   ]
  },
  {
   "cell_type": "code",
   "execution_count": 14,
   "metadata": {},
   "outputs": [
    {
     "data": {
      "image/png": "[encoded data removed]",
      "text/plain": [
       "<Figure size 576x288 with 1 Axes>"
      ]
     },
     "metadata": {
      "needs_background": "light"
     },
     "output_type": "display_data"
    }
   ],
   "source": [
    "fig = plt.figure(figsize=(8, 4))\n",
    "plt.boxplot(box1, whis=[5, 95], sym='' )\n",
    "plt.xlabel('MONTH (2018)',  size=15)\n",
    "plt.ylabel(' SST difference (degree)', size=15)\n",
    "plt.title('MONTHLY RMSE ( OCM2_NEW vs GHRSST )')\n",
    "plt.legend(['SST'], loc='upper right')\n",
    "plt.axis([0, 4, 0.3,1.1])\n",
    "fig.savefig('rmse_ocm_box.png')"
   ]
  },
  {
   "cell_type": "code",
   "execution_count": 15,
   "metadata": {},
   "outputs": [],
   "source": [
    "box2=[dropnan2(day_rtofs[t.index(t1):t.index(t2)]),dropnan2(day_rtofs[t.index(t2):t.index(59)]),\\\n",
    "     dropnan2(day_rtofs[t.index(59):t.index(t4)]),dropnan2(day_rtofs[t.index(t4):t.index(t5)])]\n"
   ]
  },
  {
   "cell_type": "code",
   "execution_count": 16,
   "metadata": {},
   "outputs": [
    {
     "data": {
      "image/png": "[encoded data removed]",
      "text/plain": [
       "<Figure size 576x288 with 1 Axes>"
      ]
     },
     "metadata": {
      "needs_background": "light"
     },
     "output_type": "display_data"
    }
   ],
   "source": [
    "fig = plt.figure(figsize=(8, 4))\n",
    "plt.boxplot(box2, whis=[5, 95], sym='' )\n",
    "plt.xlabel('MONTH (2018)',  size=15)\n",
    "plt.ylabel(' SST difference (degree)',  size=15)\n",
    "plt.title('MONTHLY RMSE ( RTOFS vs GHRSST ) ')\n",
    "plt.legend(['SST'], loc='upper right')\n",
    "plt.axis([0, 4, 0.3,1.1])\n",
    "fig.savefig('rmse_rtofs_box.png')"
   ]
  },
  {
   "cell_type": "code",
   "execution_count": null,
   "metadata": {},
   "outputs": [],
   "source": []
  },
  {
   "cell_type": "code",
   "execution_count": 17,
   "metadata": {},
   "outputs": [],
   "source": [
    "def set_box_color(bp, color):\n",
    "    plt.setp(bp['boxes'], color=color)\n",
    "    plt.setp(bp['whiskers'], color=color)\n",
    "    plt.setp(bp['caps'], color=color)\n",
    "    plt.setp(bp['medians'], color=color)\n",
    "    "
   ]
  },
  {
   "cell_type": "code",
   "execution_count": 18,
   "metadata": {},
   "outputs": [],
   "source": [
    "ticks=np.array(range(len(box1)))+1\n",
    "x_ocm=(np.array(range(len(box1)))+1)*2-0.3\n",
    "x_rtf=(np.array(range(len(box1)))+1)*2+0.3\n",
    "x_tit=(np.array(range(len(box1)))+1)*2"
   ]
  },
  {
   "cell_type": "code",
   "execution_count": 19,
   "metadata": {},
   "outputs": [
    {
     "data": {
      "image/png": "[encoded data removed]",
      "text/plain": [
       "<Figure size 720x288 with 1 Axes>"
      ]
     },
     "metadata": {
      "needs_background": "light"
     },
     "output_type": "display_data"
    }
   ],
   "source": [
    "fig = plt.figure(figsize=(10, 4))\n",
    "boc =plt.boxplot(box1, positions=x_ocm,whis=[5, 95], sym='.' , widths=0.5)\n",
    "brt =plt.boxplot(box2, positions=x_rtf,whis=[5, 95], sym='.', widths=0.5 )\n",
    "set_box_color(boc, '#D7191C')\n",
    "set_box_color(brt, '#2C7BB6')\n",
    "plt.axis([0, 9, 0.3,1.2])\n",
    "plt.xticks(x_tit, ticks)\n",
    "plt.plot([], c='#D7191C', label='OCM2-NEW')\n",
    "plt.plot([], c='#2C7BB6', label='RTOFS')\n",
    "plt.legend()\n",
    "\n",
    "fig.savefig('rmse_all.png')"
   ]
  },
  {
   "cell_type": "code",
   "execution_count": null,
   "metadata": {},
   "outputs": [],
   "source": []
  },
  {
   "cell_type": "code",
   "execution_count": null,
   "metadata": {},
   "outputs": [],
   "source": []
  },
  {
   "cell_type": "code",
   "execution_count": null,
   "metadata": {},
   "outputs": [],
   "source": []
  }
 ],
 "metadata": {
  "kernelspec": {
   "display_name": "Python 3",
   "language": "python",
   "name": "python3"
  },
  "language_info": {
   "codemirror_mode": {
    "name": "ipython",
    "version": 3
   },
   "file_extension": ".py",
   "mimetype": "text/x-python",
   "name": "python",
   "nbconvert_exporter": "python",
   "pygments_lexer": "ipython3",
   "version": "3.6.7"
  }
 },
 "nbformat": 4,
 "nbformat_minor": 2
}
