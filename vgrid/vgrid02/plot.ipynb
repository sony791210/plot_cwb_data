{
 "cells": [
  {
   "cell_type": "code",
   "execution_count": 25,
   "metadata": {},
   "outputs": [],
   "source": [
    "import pandas as pd\n",
    "import numpy as np\n",
    "import matplotlib.pyplot as plt\n",
    "import netCDF4\n",
    "from scipy.interpolate import interp1d\n",
    "from scipy.interpolate import griddata\n",
    "import matplotlib as mpl\n",
    "import cmocean\n",
    "import cmocean.cm as cmo"
   ]
  },
  {
   "cell_type": "code",
   "execution_count": null,
   "metadata": {},
   "outputs": [],
   "source": []
  },
  {
   "cell_type": "code",
   "execution_count": 2,
   "metadata": {},
   "outputs": [
    {
     "name": "stderr",
     "output_type": "stream",
     "text": [
      "/opt/conda/lib/python3.6/site-packages/ipykernel_launcher.py:2: UserWarning: WARNING: missing_value not used since it\n",
      "cannot be safely cast to variable data type\n",
      "  \n"
     ]
    }
   ],
   "source": [
    "ds=netCDF4.Dataset('1_temp.nc')\n",
    "data=ds['temp'][:].data\n",
    "\n",
    "dt=netCDF4.Dataset('1_elev.nc')\n",
    "tide=dt['elev']"
   ]
  },
  {
   "cell_type": "code",
   "execution_count": 3,
   "metadata": {},
   "outputs": [
    {
     "data": {
      "text/plain": [
       "(480, 29, 1555)"
      ]
     },
     "execution_count": 3,
     "metadata": {},
     "output_type": "execute_result"
    }
   ],
   "source": [
    "data.shape"
   ]
  },
  {
   "cell_type": "code",
   "execution_count": 4,
   "metadata": {},
   "outputs": [],
   "source": [
    "nodeid=pd.read_csv('nodeid.txt',header=None)"
   ]
  },
  {
   "cell_type": "code",
   "execution_count": 5,
   "metadata": {},
   "outputs": [],
   "source": [
    "#node number \n",
    "nodenum= len(nodeid)-1"
   ]
  },
  {
   "cell_type": "code",
   "execution_count": 6,
   "metadata": {},
   "outputs": [],
   "source": [
    "transec=pd.read_csv('transect1.out',sep='\\s+',header=None)"
   ]
  },
  {
   "cell_type": "code",
   "execution_count": 7,
   "metadata": {},
   "outputs": [],
   "source": [
    "timestart=72  #                                         %要改,nc檔讀取開始的時間\n",
    "timeend  =480 #                                         %要改,nc檔讀取結束的時間\n",
    "Climax   =32  #                                         %要改,color bar 最大值\n",
    "Climin   =10  #                                         %要改,color bar 最小值\n",
    "Cspace   =1   #                                         %要改,color bar 間隔\n",
    "datestart=18  #                                         %要改 "
   ]
  },
  {
   "cell_type": "code",
   "execution_count": 8,
   "metadata": {},
   "outputs": [],
   "source": [
    "nodedp=transec.iloc[:,5]\n",
    "nodedis=[]\n",
    "for i in range(nodenum-1):\n",
    "    nodedis.append(transec.iloc[i+1,4]-transec.iloc[i,4])  \n",
    "nodedis_2=[np.round(i/10) for i in nodedis]\n",
    "nodedis_3=[]\n",
    "st=1\n",
    "for i in nodedis_2:\n",
    "    nodedis_3.append(st)\n",
    "    st=st+i\n",
    "nodedis_3.append(st)"
   ]
  },
  {
   "cell_type": "code",
   "execution_count": 9,
   "metadata": {},
   "outputs": [
    {
     "name": "stderr",
     "output_type": "stream",
     "text": [
      "/opt/conda/lib/python3.6/site-packages/ipykernel_launcher.py:5: DeprecationWarning: object of type <class 'numpy.float64'> cannot be safely interpreted as an integer.\n",
      "  \"\"\"\n"
     ]
    }
   ],
   "source": [
    "vlayer = data.shape[1]                  #垂直分層數\n",
    "maxdp =round(np.max(nodedp)*1.1 )              #maximun water depth in drewmap\n",
    "maxdis=  np.sum(nodedis_2[0:nodenum-1]) #maximun dis\n",
    "maxdrate=1\n",
    "[xi,yi]=np.meshgrid(np.linspace(1, maxdis,maxdis ),np.linspace(1, maxdp*maxdrate,maxdp*maxdrate ) )\n",
    "ts2e=timeend-timestart\n",
    "tide=tide[timestart-1:-1,nodeid[0][1]-1]  #取出 位置(nodeid[0][1])  時間資料(timestart-1:-1)"
   ]
  },
  {
   "cell_type": "markdown",
   "metadata": {},
   "source": [
    "## Get data that u want   \n",
    "salt=[time,bp,layer]"
   ]
  },
  {
   "cell_type": "code",
   "execution_count": 10,
   "metadata": {},
   "outputs": [],
   "source": [
    "salt=[]\n",
    "for time in range(ts2e):\n",
    "    s=[]\n",
    "    for k in range(nodenum):\n",
    "        s.append(data[time+timestart-1,0:vlayer,nodeid[0][k+1]-1])\n",
    "    salt.append(s)\n",
    "salt=np.array(salt)\n",
    "salt[salt ==-9999]=np.nan"
   ]
  },
  {
   "cell_type": "code",
   "execution_count": 11,
   "metadata": {},
   "outputs": [
    {
     "data": {
      "text/plain": [
       "(408, 17, 29)"
      ]
     },
     "execution_count": 11,
     "metadata": {},
     "output_type": "execute_result"
    }
   ],
   "source": [
    "salt.shape"
   ]
  },
  {
   "cell_type": "code",
   "execution_count": 12,
   "metadata": {},
   "outputs": [],
   "source": [
    "elevcount=0"
   ]
  },
  {
   "cell_type": "code",
   "execution_count": 13,
   "metadata": {},
   "outputs": [],
   "source": [
    "rec1=[]\n",
    "for c1 in range(nodenum):\n",
    "    rec1.append(abs(transec.iloc[c1,1]))"
   ]
  },
  {
   "cell_type": "code",
   "execution_count": 14,
   "metadata": {},
   "outputs": [
    {
     "name": "stderr",
     "output_type": "stream",
     "text": [
      "/opt/conda/lib/python3.6/site-packages/ipykernel_launcher.py:2: DeprecationWarning: object of type <class 'numpy.float64'> cannot be safely interpreted as an integer.\n",
      "  \n",
      "/opt/conda/lib/python3.6/site-packages/ipykernel_launcher.py:5: DeprecationWarning: object of type <class 'numpy.float64'> cannot be safely interpreted as an integer.\n",
      "  \"\"\"\n"
     ]
    }
   ],
   "source": [
    "f1=interp1d(nodedis_3,rec1,kind='linear')\n",
    "rec3 = f1(np.linspace(1,maxdis,maxdis))\n",
    "\n",
    "f2=interp1d(nodedis_3,nodedp,kind='linear')\n",
    "nodedp2=f2(np.linspace(1,maxdis,maxdis))"
   ]
  },
  {
   "cell_type": "code",
   "execution_count": 15,
   "metadata": {},
   "outputs": [],
   "source": [
    "posi=np.zeros([vlayer,vlayer])\n",
    "posib=np.zeros([vlayer,vlayer])\n",
    "xposi=np.zeros(np.sum(rec1))\n",
    "yposi=np.zeros(np.sum(rec1))\n",
    "zposi=np.zeros(np.sum(rec1))\n"
   ]
  },
  {
   "cell_type": "code",
   "execution_count": 16,
   "metadata": {},
   "outputs": [],
   "source": [
    "ma=salt[0,:,:]"
   ]
  },
  {
   "cell_type": "code",
   "execution_count": 17,
   "metadata": {},
   "outputs": [
    {
     "data": {
      "text/plain": [
       "(17, 29)"
      ]
     },
     "execution_count": 17,
     "metadata": {},
     "output_type": "execute_result"
    }
   ],
   "source": [
    "ma.shape"
   ]
  },
  {
   "cell_type": "code",
   "execution_count": null,
   "metadata": {},
   "outputs": [],
   "source": []
  },
  {
   "cell_type": "code",
   "execution_count": 18,
   "metadata": {},
   "outputs": [],
   "source": [
    "count=0;\n",
    "for n in range(nodenum):\n",
    "    r11=rec1[n]-1\n",
    "    r12=r11+8\n",
    "    posi[0:rec1[n],n]=abs(transec.iloc[n,7:r12])\n",
    "    posib[0:rec1[n],n]=maxdrate*posi[0:rec1[n],n]\n",
    "    posib[0,n]=0.00001\n",
    "    \n",
    "    rec=rec1[n]\n",
    "    rec2=vlayer-rec1[n]+1\n",
    "    xposi[0+count:rec+count] = nodedis_3[n]\n",
    "    yposi[0+count:rec+count] = posib[0:rec,n]\n",
    "    sb=ma[n,range(vlayer-1,rec2-2,-1)]  \n",
    "    zposi[0+count:rec+count] = sb   \n",
    "    count=rec1[n]+count"
   ]
  },
  {
   "cell_type": "code",
   "execution_count": null,
   "metadata": {},
   "outputs": [],
   "source": []
  },
  {
   "cell_type": "code",
   "execution_count": null,
   "metadata": {},
   "outputs": [],
   "source": []
  },
  {
   "cell_type": "code",
   "execution_count": null,
   "metadata": {},
   "outputs": [],
   "source": []
  },
  {
   "cell_type": "code",
   "execution_count": 19,
   "metadata": {},
   "outputs": [],
   "source": [
    "\n",
    "zi2 = griddata((xposi,yposi), zposi, (xi, yi) ,method='linear')\n",
    "zi = np.round(zi2[:,:],4) \n",
    "#打造海底地形\n",
    "for k in range(int(maxdis)):\n",
    "    h=int(nodedp2[k]*maxdrate )\n",
    "    maxyi=int(len(yi[:,k]))\n",
    "    zi[h:maxyi,k]=np.nan"
   ]
  },
  {
   "cell_type": "code",
   "execution_count": 20,
   "metadata": {},
   "outputs": [],
   "source": [
    "yi=yi*-1"
   ]
  },
  {
   "cell_type": "code",
   "execution_count": 21,
   "metadata": {},
   "outputs": [],
   "source": [
    "# the color bar\n",
    "# https://matplotlib.org/cmocean/#rain"
   ]
  },
  {
   "cell_type": "code",
   "execution_count": 24,
   "metadata": {},
   "outputs": [
    {
     "name": "stderr",
     "output_type": "stream",
     "text": [
      "/opt/conda/lib/python3.6/site-packages/ipykernel_launcher.py:2: DeprecationWarning: object of type <class 'float'> cannot be safely interpreted as an integer.\n",
      "  \n",
      "/opt/conda/lib/python3.6/site-packages/ipykernel_launcher.py:3: DeprecationWarning: object of type <class 'float'> cannot be safely interpreted as an integer.\n",
      "  This is separate from the ipykernel package so we can avoid doing imports until\n"
     ]
    },
    {
     "data": {
      "image/png": "[encoded data removed]",
      "text/plain": [
       "<Figure size 504x432 with 2 Axes>"
      ]
     },
     "metadata": {
      "needs_background": "light"
     },
     "output_type": "display_data"
    }
   ],
   "source": [
    "fig=plt.figure(figsize=(7, 6))\n",
    "cs = plt.contourf(xi, yi, zi,np.linspace(Climin,Climax,(Climax-Climin)/Cspace+1),cmap=cmo.thermal)\n",
    "plt.contour(xi, yi, zi,np.linspace(Climin,Climax,(Climax-Climin)/Cspace+1),colors='k',linestyles='dashed' )\n",
    "cbar = fig.colorbar(cs)"
   ]
  },
  {
   "cell_type": "code",
   "execution_count": null,
   "metadata": {},
   "outputs": [],
   "source": []
  },
  {
   "cell_type": "code",
   "execution_count": null,
   "metadata": {},
   "outputs": [],
   "source": []
  },
  {
   "cell_type": "code",
   "execution_count": null,
   "metadata": {},
   "outputs": [],
   "source": []
  },
  {
   "cell_type": "code",
   "execution_count": null,
   "metadata": {},
   "outputs": [],
   "source": []
  },
  {
   "cell_type": "code",
   "execution_count": null,
   "metadata": {},
   "outputs": [],
   "source": []
  },
  {
   "cell_type": "code",
   "execution_count": null,
   "metadata": {},
   "outputs": [],
   "source": []
  },
  {
   "cell_type": "code",
   "execution_count": null,
   "metadata": {},
   "outputs": [],
   "source": []
  },
  {
   "cell_type": "code",
   "execution_count": null,
   "metadata": {},
   "outputs": [],
   "source": []
  },
  {
   "cell_type": "code",
   "execution_count": null,
   "metadata": {},
   "outputs": [],
   "source": []
  },
  {
   "cell_type": "code",
   "execution_count": null,
   "metadata": {},
   "outputs": [],
   "source": [
    "\n"
   ]
  },
  {
   "cell_type": "code",
   "execution_count": null,
   "metadata": {},
   "outputs": [],
   "source": []
  }
 ],
 "metadata": {
  "kernelspec": {
   "display_name": "Python 3",
   "language": "python",
   "name": "python3"
  },
  "language_info": {
   "codemirror_mode": {
    "name": "ipython",
    "version": 3
   },
   "file_extension": ".py",
   "mimetype": "text/x-python",
   "name": "python",
   "nbconvert_exporter": "python",
   "pygments_lexer": "ipython3",
   "version": "3.6.7"
  }
 },
 "nbformat": 4,
 "nbformat_minor": 2
}
